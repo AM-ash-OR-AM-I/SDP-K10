{
 "cells": [
  {
   "cell_type": "code",
   "execution_count": 1,
   "id": "psychological-congress",
   "metadata": {},
   "outputs": [],
   "source": [
    "import numpy as np\n",
    "import matplotlib.pyplot as plt\n",
    "from matplotlib.patches import Patch\n",
    "plt.rcParams.update({\n",
    "    \"text.usetex\": True,\n",
    "    \"font.family\": \"serif\",\n",
    "    \"font.serif\": [\"Palatino\"],\n",
    "})\n",
    "%config InlineBackend.figure_format = \"svg\"\n",
    "from pathlib import Path\n",
    "import nibabel as nib\n",
    "import cv2"
   ]
  },
  {
   "cell_type": "code",
   "execution_count": 3,
   "id": "plain-mobility",
   "metadata": {},
   "outputs": [
    {
     "name": "stdout",
     "output_type": "stream",
     "text": [
      "/home/students/arimond/EffFormer/results/224x224_head4\n",
      "[PosixPath('/home/students/arimond/EffFormer/results/224x224_head4/transfilm_epoch_359.pth'), PosixPath('/home/students/arimond/EffFormer/results/224x224_head4/log'), PosixPath('/home/students/arimond/EffFormer/results/224x224_head4/transfilm_epoch_319.pth'), PosixPath('/home/students/arimond/EffFormer/results/224x224_head4/transfilm_epoch_399.pth'), PosixPath('/home/students/arimond/EffFormer/results/224x224_head4/test'), PosixPath('/home/students/arimond/EffFormer/results/224x224_head4/transfilm_epoch_299.pth'), PosixPath('/home/students/arimond/EffFormer/results/224x224_head4/transfilm_epoch_259.pth'), PosixPath('/home/students/arimond/EffFormer/results/224x224_head4/log.txt'), PosixPath('/home/students/arimond/EffFormer/results/224x224_head4/transfilm_epoch_379.pth'), PosixPath('/home/students/arimond/EffFormer/results/224x224_head4/transfilm_epoch_239.pth'), PosixPath('/home/students/arimond/EffFormer/results/224x224_head4/transfilm_2022-10-26 07:46:24.725098results.csv'), PosixPath('/home/students/arimond/EffFormer/results/224x224_head4/transfilm_epoch_219.pth'), PosixPath('/home/students/arimond/EffFormer/results/224x224_head4/transfilm_epoch_279.pth'), PosixPath('/home/students/arimond/EffFormer/results/224x224_head4/transfilm_epoch_339.pth'), PosixPath('/home/students/arimond/EffFormer/results/224x224_head4/transfilm_2022-10-26 07:46:24.725098dice.png')]\n",
      "15\n",
      "[PosixPath('/home/students/arimond/EffFormer/results/224x224_head4/log'), PosixPath('/home/students/arimond/EffFormer/results/224x224_head4/transfilm_epoch_319.pth'), PosixPath('/home/students/arimond/EffFormer/results/224x224_head4/transfilm_epoch_399.pth'), PosixPath('/home/students/arimond/EffFormer/results/224x224_head4/test'), PosixPath('/home/students/arimond/EffFormer/results/224x224_head4/transfilm_epoch_299.pth'), PosixPath('/home/students/arimond/EffFormer/results/224x224_head4/transfilm_epoch_259.pth'), PosixPath('/home/students/arimond/EffFormer/results/224x224_head4/log.txt'), PosixPath('/home/students/arimond/EffFormer/results/224x224_head4/transfilm_epoch_379.pth'), PosixPath('/home/students/arimond/EffFormer/results/224x224_head4/transfilm_epoch_239.pth'), PosixPath('/home/students/arimond/EffFormer/results/224x224_head4/transfilm_2022-10-26 07:46:24.725098results.csv'), PosixPath('/home/students/arimond/EffFormer/results/224x224_head4/transfilm_epoch_219.pth'), PosixPath('/home/students/arimond/EffFormer/results/224x224_head4/transfilm_epoch_279.pth'), PosixPath('/home/students/arimond/EffFormer/results/224x224_head4/transfilm_epoch_339.pth'), PosixPath('/home/students/arimond/EffFormer/results/224x224_head4/transfilm_2022-10-26 07:46:24.725098dice.png')]\n",
      "14\n"
     ]
    }
   ],
   "source": [
    "models_path = Path.cwd() / 'results/swap_channel_spatial'\n",
    "print(models_path)\n",
    "model = list(models_path.iterdir())\n",
    "print(model)\n",
    "print(len(model))\n",
    "model = model[1:]\n",
    "print(model)\n",
    "print(len(model))"
   ]
  },
  {
   "cell_type": "code",
   "execution_count": 7,
   "id": "sustainable-hotel",
   "metadata": {},
   "outputs": [],
   "source": [
    "test_cases = ['case0001', 'case0002', 'case0003', 'case0004', 'case0008', 'case0022',\n",
    "             'case0025', 'case0029', 'case0032', 'case0035', 'case0036', 'case0038']"
   ]
  },
  {
   "cell_type": "code",
   "execution_count": 8,
   "id": "modular-singapore",
   "metadata": {},
   "outputs": [
    {
     "name": "stdout",
     "output_type": "stream",
     "text": [
      "['case0001_gt.nii.gz', 'case0002_gt.nii.gz', 'case0003_gt.nii.gz', 'case0004_gt.nii.gz', 'case0008_gt.nii.gz', 'case0022_gt.nii.gz', 'case0025_gt.nii.gz', 'case0029_gt.nii.gz', 'case0032_gt.nii.gz', 'case0035_gt.nii.gz', 'case0036_gt.nii.gz', 'case0038_gt.nii.gz']\n"
     ]
    }
   ],
   "source": [
    "img_names = [i + '_img.nii.gz' for i in test_cases]\n",
    "gt_names = [i + '_gt.nii.gz' for i in test_cases]\n",
    "pred_names = [i + '_pred.nii.gz' for i in test_cases]\n",
    "print(gt_names)"
   ]
  },
  {
   "cell_type": "code",
   "execution_count": 10,
   "id": "extra-hayes",
   "metadata": {},
   "outputs": [],
   "source": [
    "def select_best_slice(gt,class_num):\n",
    "    best_slices = [sl for sl in range(s1_gt.shape[-1]) if len(np.unique(gt[...,sl])) == class_num]\n",
    "    return best_slices"
   ]
  },
  {
   "cell_type": "code",
   "execution_count": 14,
   "id": "exclusive-cornell",
   "metadata": {},
   "outputs": [
    {
     "name": "stdout",
     "output_type": "stream",
     "text": [
      "best slices for case case0022 is: [61, 62, 63, 64, 65, 66, 67, 68]\n",
      "best slices for case case0038 is: [69, 70, 71, 72]\n",
      "i: 0\n",
      "Idx: 61\n",
      "i: 1\n",
      "Idx: 61\n",
      "i: 2\n",
      "Idx: 61\n",
      "i: 3\n",
      "Idx: 61\n",
      "i: 4\n",
      "Idx: 61\n",
      "i: 0\n",
      "Idx: 69\n",
      "i: 1\n",
      "Idx: 69\n",
      "i: 2\n",
      "Idx: 69\n",
      "i: 3\n",
      "Idx: 69\n",
      "i: 4\n",
      "Idx: 69\n"
     ]
    }
   ],
   "source": [
    "case_idx = [5, 11]\n",
    "\n",
    "s1_img = nib.load(model[0] / img_names[case_idx[0]]).get_fdata()\n",
    "s1_gt = nib.load(model[0] / gt_names[case_idx[0]]).get_fdata()\n",
    "\n",
    "s2_img = nib.load(model[0] / img_names[case_idx[1]]).get_fdata()\n",
    "s2_gt = nib.load(model[0] / gt_names[case_idx[1]]).get_fdata()\n",
    "\n",
    "\n",
    "class_num = 9\n",
    "s1_best_slices = select_best_slice(s1_gt, class_num)\n",
    "print(f'best slices for case {test_cases[case_idx[0]]} is: {s1_best_slices}')\n",
    "\n",
    "s2_best_slices = select_best_slice(s2_gt, class_num)\n",
    "print(f'best slices for case {test_cases[case_idx[1]]} is: {s2_best_slices}')\n",
    "\n",
    "Idx1, Idx2 = s1_best_slices[0], s2_best_slices[0]\n",
    "\n",
    "mask_color = {\"1\":(0, 0, 255),\n",
    "                  \"2\":(0, 255, 0),\n",
    "                  \"3\":(255, 0, 0),\n",
    "                  \"4\":(0, 255, 255),\n",
    "                  \"5\":(255, 0, 255),\n",
    "                  \"6\":(255, 255, 0),\n",
    "                  \"7\":(63, 208, 244),\n",
    "                  \"8\":(241, 240, 234)}\n",
    "label_name = {\"1\":\"aorta\",\n",
    "              \"2\":\"gallbladder\",\n",
    "              \"3\":\"left kidney\",\n",
    "              \"4\":\"right kidney\",\n",
    "              \"5\":\"liver\",\n",
    "              \"6\":\"pancreas\",\n",
    "              \"7\":\"spleen\",\n",
    "              \"8\":\"stomach\"}\n",
    "\n",
    "COLORS = [\"#0000FF\",\"#00FF00\",\"#FF0000\",\"#00FFFF\",\"#FF00FF\",\"#FFFF00\",\"#3FD0F4\",\"#F1F0EA\"]\n",
    "SPECIES_ = ['aorta','gallbladder','left kidney','right kidney','liver','pancreas','spleen','stomach']\n",
    "handles = [\n",
    "    Patch(facecolor=color, edgecolor=\"k\", label=label, alpha=1)\n",
    "    for label, color in zip(SPECIES_, COLORS)\n",
    "]\n",
    "\n",
    "\n",
    "if len(s1_best_slices) != 0 and len(s2_best_slices) != 0:\n",
    "    \n",
    "\n",
    "    s1_img = cv2.cvtColor(s1_img[...,Idx1].astype('float32'),cv2.COLOR_GRAY2RGB)\n",
    "    s1_img = cv2.normalize(s1_img, None, alpha = 0, beta = 255, norm_type = cv2.NORM_MINMAX, dtype = cv2.CV_32F)\n",
    "    s1_img = s1_img.astype(np.uint8)\n",
    "\n",
    "    s2_img = cv2.cvtColor(s2_img[...,Idx2].astype('float32'),cv2.COLOR_GRAY2RGB)\n",
    "    s2_img = cv2.normalize(s2_img, None, alpha = 0, beta = 255, norm_type = cv2.NORM_MINMAX, dtype = cv2.CV_32F)\n",
    "    s2_img = s2_img.astype(np.uint8)\n",
    "\n",
    "\n",
    "    # preds = []\n",
    "\n",
    "    s1_pred_0 = nib.load(model[0] / pred_names[case_idx[0]]).get_fdata() # Unet\n",
    "    s1_pred_1 = nib.load(model[1] / pred_names[case_idx[0]]).get_fdata() # TransUnet\n",
    "    s1_pred_2 = nib.load(model[2] / pred_names[case_idx[0]]).get_fdata() # Swin Unet\n",
    "    s1_pred_3 = nib.load(model[3] / pred_names[case_idx[0]]).get_fdata() # proposed method\n",
    "\n",
    "    s2_pred_0 = nib.load(model[0] / pred_names[case_idx[1]]).get_fdata() # Unet\n",
    "    s2_pred_1 = nib.load(model[1] / pred_names[case_idx[1]]).get_fdata() # TransUnet\n",
    "    s2_pred_2 = nib.load(model[2] / pred_names[case_idx[1]]).get_fdata() # Swin Unet\n",
    "    s2_pred_3 = nib.load(model[3] / pred_names[case_idx[1]]).get_fdata() # proposed method\n",
    "\n",
    "    ll = [s1_gt, s1_pred_0, s1_pred_1, s2_gt, s2_pred_0, s2_pred_1]\n",
    "\n",
    "\n",
    "\n",
    "    fig, axes = plt.subplots(2, 3, figsize= (20,15))\n",
    "    fig.legend(ncol=8,handles=handles, handlelength=4, handleheight=4,loc='upper center',frameon=False,fontsize = 12,bbox_to_anchor=[0.5, 0.95])\n",
    "    \n",
    "    s1_ll = [s1_gt, s1_pred_0, s1_pred_1, s1_pred_2, s1_pred_3]\n",
    "    s2_ll = [s2_gt, s2_pred_0, s2_pred_1, s2_pred_2, s2_pred_3]\n",
    "\n",
    "    ll_prime = []\n",
    "\n",
    "    img_hat = s1_img.copy()\n",
    "    for i in range(len(s1_ll)):\n",
    "        print(f\"i: {i}\")\n",
    "        Idx = Idx1\n",
    "        img_hat = s1_img.copy()\n",
    "        print(f\"Idx: {Idx}\")\n",
    "        for j in range(1,9):\n",
    "                img_hat[np.where(s1_ll[i][...,Idx] == float(j))] = mask_color[str(j)]\n",
    "        ll_prime.append(np.fliplr(img_hat))\n",
    "\n",
    "    img_hat = s1_img.copy()\n",
    "    for i in range(len(s2_ll)):\n",
    "        print(f\"i: {i}\")\n",
    "        Idx = Idx2\n",
    "        img_hat = s2_img.copy()\n",
    "        print(f\"Idx: {Idx}\")\n",
    "        for j in range(1,9):\n",
    "                img_hat[np.where(s2_ll[i][...,Idx] == float(j))] = mask_color[str(j)]\n",
    "        ll_prime.append(np.fliplr(img_hat))\n",
    "\n",
    "\n",
    "    fig, axes = plt.subplots(2, 5, figsize= (20,15))\n",
    "    fig.legend(ncol=8,handles=handles, handlelength=4, handleheight=4,loc='upper center',frameon=False,fontsize = 12,bbox_to_anchor=[0.5, 0.95])\n",
    "    j = 0\n",
    "    for row in range(2):\n",
    "        for col in range(len(ll_prime)//2):\n",
    "            axes[row][col].imshow(ll_prime[j])\n",
    "            axes[row][col].axis(\"off\")\n",
    "            j += 1\n",
    "            if row == 1 and col == 0:\n",
    "                axes[row][col].text(0.5,-0.080, \"(a) Ground Truth\", size=14, ha=\"center\", transform=axes[row][col].transAxes,weight=\"bold\")\n",
    "            elif row == 1 and col == 1:\n",
    "                axes[row][col].text(0.5,-0.080, \"(b) U-Net\", size=14, ha=\"center\", transform=axes[row][col].transAxes,weight=\"bold\")\n",
    "            elif row == 1 and col == 2 :\n",
    "                axes[row][col].text(0.5,-0.080, \"(c) Trans U-Net\", size=14, ha=\"center\", transform=axes[row][col].transAxes,weight=\"bold\")\n",
    "            elif row == 1 and col == 3:\n",
    "                axes[row][col].text(0.5,-0.080, \"(c) Swin U-Net\", size=14, ha=\"center\", transform=axes[row][col].transAxes,weight=\"bold\")\n",
    "            elif row ==1 and col == 4:\n",
    "                axes[row][col].text(0.5,-0.080, \"(c) Proposed method\", size=14, ha=\"center\", transform=axes[row][col].transAxes,weight=\"bold\")\n",
    "\n",
    "\n",
    "    fig.subplots_adjust(wspace=0.05, hspace=0.05)\n",
    "else:\n",
    "    print(f'There is not slices with {class_num} classes. Select other cases!')"
   ]
  },
  {
   "cell_type": "code",
   "execution_count": 13,
   "id": "analyzed-pacific",
   "metadata": {},
   "outputs": [],
   "source": [
    "fig.savefig(\"synapsevisualization.png\",dpi=300)"
   ]
  },
  {
   "cell_type": "code",
   "execution_count": null,
   "id": "technical-broad",
   "metadata": {},
   "outputs": [],
   "source": []
  }
 ],
 "metadata": {
  "kernelspec": {
   "display_name": "Python 3.10.4 ('new_cuda')",
   "language": "python",
   "name": "python3"
  },
  "language_info": {
   "codemirror_mode": {
    "name": "ipython",
    "version": 3
   },
   "file_extension": ".py",
   "mimetype": "text/x-python",
   "name": "python",
   "nbconvert_exporter": "python",
   "pygments_lexer": "ipython3",
   "version": "3.10.4"
  },
  "vscode": {
   "interpreter": {
    "hash": "fa78b0d7c19612feb57a86eb987f628f19562ccd1d4123a203552ea860c47f43"
   }
  }
 },
 "nbformat": 4,
 "nbformat_minor": 5
}
